{
 "cells": [
  {
   "cell_type": "markdown",
   "metadata": {},
   "source": [
    "##### HMMが扱う問題の種類(参考: [url](http://keik-117.hatenablog.com/entry/2016/07/05/213903), [url2](http://hmmlearn.readthedocs.io/en/latest/tutorial.html))\n",
    "1. 評価\n",
    "    - 既知のパラメータで構成されたHMMの出力として観測系列__x__が得られる確率(尤度)を評価.\n",
    "- 復号\n",
    "    - 既知のパラメータで構成されたHMMの出力として観測系列__x__が得られる確率が__最も高くなる状態系列s__を復号する.\n",
    "- 推定\n",
    "    - __未知のパラメータ__のHMMからの出力として観測系列__x__が得られた時、未知のパラメータを推定する."
   ]
  },
  {
   "cell_type": "code",
   "execution_count": 32,
   "metadata": {
    "collapsed": false
   },
   "outputs": [],
   "source": [
    "from hmmlearn import hmm"
   ]
  },
  {
   "cell_type": "code",
   "execution_count": 33,
   "metadata": {
    "collapsed": false
   },
   "outputs": [],
   "source": [
    "# GaussianHMM を生成\n",
    "# GaussianHMM => モデルの出力が連続値\n",
    "# 状態数3, 共分散の種類 full\n",
    "g_model = hmm.GaussianHMM(n_components=3, covariance_type=\"full\")"
   ]
  },
  {
   "cell_type": "code",
   "execution_count": 34,
   "metadata": {
    "collapsed": true
   },
   "outputs": [],
   "source": [
    "# 初期パラメータを設定して実験\n",
    "\n",
    "# 初期状態確率 π \n",
    "# (状態数)\n",
    "model.startprob_ = np.array([0.6, 0.3, 0.1])\n",
    "\n",
    "# 遷移確率 A \n",
    "# (状態数 * 状態数)\n",
    "model.transmat_ = np.array([\n",
    "        [0.7, 0.2, 0.1],\n",
    "        [0.3, 0.5, 0.2],\n",
    "        [0.3, 0.3, 0.4]])\n",
    "\n",
    "# 出力確率 B を指定する。\n",
    "# ただし出力は正規分布に従うと仮定しているため、正規分布のパラメータの\n",
    "# 平均値 μ (means_) と、共分散 σ^2 (covars_) を指定する。\n",
    "# 平均値\n",
    "model.means_ = np.array([\n",
    "        [0.0, 0.0],\n",
    "        [10.0, 10.0],\n",
    "        [100.0, 100.0]])\n",
    "# 共分散\n",
    "model.covars_ = 2 * np.tile(np.identity(2), (3, 1, 1))"
   ]
  },
  {
   "cell_type": "code",
   "execution_count": 40,
   "metadata": {
    "collapsed": false
   },
   "outputs": [
    {
     "name": "stderr",
     "output_type": "stream",
     "text": [
      "/lab/nishiyama/src/anaconda3/lib/python3.6/site-packages/sklearn/utils/deprecation.py:70: DeprecationWarning: Function log_multivariate_normal_density is deprecated; The function log_multivariate_normal_density is deprecated in 0.18 and will be removed in 0.20.\n",
      "  warnings.warn(msg, category=DeprecationWarning)\n",
      "/lab/nishiyama/src/anaconda3/lib/python3.6/site-packages/sklearn/utils/deprecation.py:70: DeprecationWarning: Function log_multivariate_normal_density is deprecated; The function log_multivariate_normal_density is deprecated in 0.18 and will be removed in 0.20.\n",
      "  warnings.warn(msg, category=DeprecationWarning)\n"
     ]
    },
    {
     "data": {
      "text/plain": [
       "array([0, 1, 2, 2, 0, 0, 0, 1, 1, 1])"
      ]
     },
     "execution_count": 40,
     "metadata": {},
     "output_type": "execute_result"
    }
   ],
   "source": [
    "# 推定したい入力系列\n",
    "# [[] * サンプル数]\n",
    "X = np.array([[  0.75706838,  -0.1280334 ],\n",
    "               [ 10.3137587 ,  10.59635189],\n",
    "               [ 99.27435882,  99.63294557],\n",
    "               [ 98.74324108,  99.25505532],\n",
    "               [ -0.5194227 ,   2.59958429],\n",
    "               [  2.66607548,  -0.41898544],\n",
    "               [  1.49013197,  -1.51010137],\n",
    "               [  9.394274  ,  11.27156992],\n",
    "               [ 10.1477135 ,   9.76125003],\n",
    "               [  9.88244708,   9.33941603]])\n",
    "np.exp(model.score(X))\n",
    "model.predict(X)"
   ]
  },
  {
   "cell_type": "code",
   "execution_count": null,
   "metadata": {
    "collapsed": true
   },
   "outputs": [],
   "source": []
  }
 ],
 "metadata": {
  "kernelspec": {
   "display_name": "Python 3",
   "language": "python",
   "name": "python3"
  },
  "language_info": {
   "codemirror_mode": {
    "name": "ipython",
    "version": 3
   },
   "file_extension": ".py",
   "mimetype": "text/x-python",
   "name": "python",
   "nbconvert_exporter": "python",
   "pygments_lexer": "ipython3",
   "version": "3.6.0"
  }
 },
 "nbformat": 4,
 "nbformat_minor": 2
}
