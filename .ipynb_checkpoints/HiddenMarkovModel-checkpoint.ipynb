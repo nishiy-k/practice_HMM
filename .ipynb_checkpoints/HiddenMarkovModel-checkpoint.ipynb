{
 "cells": [
  {
   "cell_type": "markdown",
   "metadata": {},
   "source": [
    "##### HMMが扱う問題の種類(参考: [url](http://keik-117.hatenablog.com/entry/2016/07/05/213903))\n",
    "1. 評価\n",
    "    - 既知のパラメータで構成されたHMMの出力として観測系列__x__が得られる確率(尤度)を評価.\n",
    "- 復号\n",
    "    - 既知のパラメータで構成されたHMMの出力として観測系列__x__が得られる確率が__最も高くなる状態系列s__を復号する.\n",
    "- 推定\n",
    "    - __未知のパラメータ__のHMMからの出力として観測系列__x__が得られた時、未知のパラメータを推定する."
   ]
  },
  {
   "cell_type": "code",
   "execution_count": null,
   "metadata": {
    "collapsed": true
   },
   "outputs": [],
   "source": [
    "# ライブラリのインポート\n",
    "import numpy as np\n",
    "from hmmlearn import hmm\n",
    "\n",
    "# GaussianHMM クラスから出力確率が正規分布に従う隠れマルコフモデルを作る。\n",
    "# n_components パラメータで隠れ状態が3つあることを指定している。\n",
    "model = hmm.GaussianHMM(n_components=3, covariance_type=\"full\")\n",
    "\n",
    "# 初期状態確率 π を指定する。\n",
    "model.startprob_ = np.array([0.6, 0.3, 0.1])\n",
    "\n",
    "# 遷移確率 A を指定する。\n",
    "model.transmat_ = np.array([\n",
    "        [0.7, 0.2, 0.1],\n",
    "        [0.3, 0.5, 0.2],\n",
    "        [0.3, 0.3, 0.4]])\n",
    "\n",
    "# 出力確率 B を指定する。\n",
    "# ただし出力は正規分布に従うと仮定しているため、正規分布のパラメータの\n",
    "# 平均値 μ (means_) と、共分散 σ^2 (covars_) を指定する。\n",
    "model.means_ = np.array([\n",
    "        [0.0, 0.0],\n",
    "        [10.0, 10.0],\n",
    "        [100.0, 100.0]])\n",
    "model.covars_ = 2 * np.tile(np.identity(2), (3, 1, 1))"
   ]
  }
 ],
 "metadata": {
  "kernelspec": {
   "display_name": "Python 3",
   "language": "python",
   "name": "python3"
  },
  "language_info": {
   "codemirror_mode": {
    "name": "ipython",
    "version": 3
   },
   "file_extension": ".py",
   "mimetype": "text/x-python",
   "name": "python",
   "nbconvert_exporter": "python",
   "pygments_lexer": "ipython3",
   "version": "3.6.0"
  }
 },
 "nbformat": 4,
 "nbformat_minor": 2
}
